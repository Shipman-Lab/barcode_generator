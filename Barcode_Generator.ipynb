{
 "cells": [
  {
   "cell_type": "code",
   "execution_count": 1,
   "metadata": {},
   "outputs": [],
   "source": [
    "#user variables\n",
    "num_barcodes = 200 # Change this to generate a different number of barcodes\n",
    "length = 8 # Change this to generate a different barcode length\n",
    "min_hamming_distance = 3 # This is the minimum number of nucleotide differences between barcodes in the set"
   ]
  },
  {
   "cell_type": "code",
   "execution_count": 2,
   "metadata": {},
   "outputs": [],
   "source": [
    "import random\n",
    "\n",
    "def generate_dna_barcodes(num_barcodes, length, min_hamming_distance):\n",
    "    \"\"\"\n",
    "    Generate a specified number of DNA barcodes, each 8 bases long,\n",
    "    ensuring that they are at least 3 Hamming distances apart.\n",
    "\n",
    "    :param num_barcodes: Number of barcodes to generate.\n",
    "    :param length: Length of each DNA barcode.\n",
    "    :param min_hamming_distance: Minimum Hamming distance between any two barcodes.\n",
    "    :return: List of DNA barcodes.\n",
    "    \"\"\"\n",
    "\n",
    "    def hamming_distance(s1, s2):\n",
    "        \"\"\"Calculate the Hamming distance between two strings.\"\"\"\n",
    "        return sum(c1 != c2 for c1, c2 in zip(s1, s2))\n",
    "\n",
    "    bases = ['A', 'T', 'G', 'C']\n",
    "    barcodes = []\n",
    "\n",
    "    while len(barcodes) < num_barcodes:\n",
    "        new_barcode = ''.join(random.choices(bases, k=length))\n",
    "        if all(hamming_distance(new_barcode, existing_barcode) >= min_hamming_distance for existing_barcode in barcodes):\n",
    "            barcodes.append(new_barcode)\n",
    "\n",
    "    return barcodes\n",
    "\n",
    "def write_barcodes_to_fasta(barcodes, filename):\n",
    "    \"\"\"\n",
    "    Write the list of DNA barcodes to a FASTA file.\n",
    "\n",
    "    :param barcodes: List of DNA barcodes.\n",
    "    :param filename: Name of the file to save the barcodes.\n",
    "    \"\"\"\n",
    "    with open(filename, 'w') as file:\n",
    "        for i, barcode in enumerate(barcodes):\n",
    "            file.write(f\">barcode{i+1}\\n{barcode}\\n\")"
   ]
  },
  {
   "cell_type": "code",
   "execution_count": 3,
   "metadata": {},
   "outputs": [],
   "source": [
    "# Generate barcodes\n",
    "barcodes = generate_dna_barcodes(num_barcodes,length,min_hamming_distance)\n",
    "\n",
    "# Write barcodes to a FASTA file\n",
    "filename = 'dna_barcodes.fasta'\n",
    "write_barcodes_to_fasta(barcodes, filename)"
   ]
  },
  {
   "cell_type": "code",
   "execution_count": null,
   "metadata": {},
   "outputs": [],
   "source": []
  }
 ],
 "metadata": {
  "kernelspec": {
   "display_name": "Python 3 (ipykernel)",
   "language": "python",
   "name": "python3"
  },
  "language_info": {
   "codemirror_mode": {
    "name": "ipython",
    "version": 3
   },
   "file_extension": ".py",
   "mimetype": "text/x-python",
   "name": "python",
   "nbconvert_exporter": "python",
   "pygments_lexer": "ipython3",
   "version": "3.7.4"
  }
 },
 "nbformat": 4,
 "nbformat_minor": 2
}
